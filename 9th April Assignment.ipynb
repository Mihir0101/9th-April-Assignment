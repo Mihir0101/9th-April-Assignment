{
 "cells": [
  {
   "cell_type": "markdown",
   "id": "e5e47235-d3c1-4d33-96a8-d6be7f8ffaa1",
   "metadata": {},
   "source": [
    "# 9th April Assignment"
   ]
  },
  {
   "cell_type": "code",
   "execution_count": null,
   "id": "82e4dba9-af4a-41dc-bc24-a07ab95ce2b7",
   "metadata": {},
   "outputs": [],
   "source": []
  },
  {
   "cell_type": "markdown",
   "id": "a63f44ad-2af2-43b3-aa0f-f5598126270c",
   "metadata": {},
   "source": [
    "## Q1. What is Bayes' theorem?"
   ]
  },
  {
   "cell_type": "markdown",
   "id": "5d444fea-d3a1-4825-b8ee-04167317b3ee",
   "metadata": {},
   "source": [
    "- > Baye's theorem is a concept of prediction.\n",
    "\n",
    "- > It is a concept of probability that allows us to update our probability depends on new evidence.\n",
    "\n",
    "- > Prediction in baye's theorem depends uppon another process.\n",
    "\n",
    "- > Is considered for the case of conditional probability. "
   ]
  },
  {
   "cell_type": "code",
   "execution_count": null,
   "id": "3d199f32-6008-48aa-b416-c873c8b2fdd4",
   "metadata": {},
   "outputs": [],
   "source": []
  },
  {
   "cell_type": "markdown",
   "id": "0b08248a-ba1a-4365-8e0e-7aee864c1504",
   "metadata": {},
   "source": [
    "## Q2. What is the formula for Bayes' theorem?"
   ]
  },
  {
   "cell_type": "markdown",
   "id": "4056eecc-7767-4c1d-906c-de31ac699365",
   "metadata": {},
   "source": [
    "* Formula : P(A/B) = ( P(A) * P(B/A) ) / P(B)\n",
    "\n",
    "- P(A) = Probability of A.\n",
    "\n",
    "- P(B) = Probability of B.\n",
    "\n",
    "- P(B/A) = Probability of B where A is given."
   ]
  },
  {
   "cell_type": "code",
   "execution_count": null,
   "id": "c5b191d4-6943-4801-a146-ffa0c4d4f174",
   "metadata": {},
   "outputs": [],
   "source": []
  },
  {
   "cell_type": "markdown",
   "id": "1ab32c7d-b382-4aa4-ad87-2deefba740c9",
   "metadata": {},
   "source": [
    "# Q3. How is Bayes' theorem used in practice?"
   ]
  },
  {
   "cell_type": "markdown",
   "id": "b2d5c2a9-ace8-4298-b5b0-b29dcfa6a335",
   "metadata": {},
   "source": [
    "- > Bayes' theorem is widely used in Bayesian inference. It helps update the probability of a hypothesis (called the posterior probability) based on new evidence (likelihood) and prior knowledge (prior probability).\n",
    "\n",
    "- > Bayes' theorem is used in medical diagnosis to update the probability of a disease given new test results. It helps incorporate prior knowledge about the prevalence of the disease and the accuracy of the test.\n",
    "\n",
    "- > Bayes' theorem is employed in Bayesian spam filters. It calculates the probability that an email is spam based on the occurrence of certain words (evidence) in the email.\n",
    "\n",
    "- > It is base concept of Naive Baye's machine learning model.It help to train and test the model for prediction."
   ]
  },
  {
   "cell_type": "code",
   "execution_count": null,
   "id": "4517063f-878d-467f-881d-9be7863f877f",
   "metadata": {},
   "outputs": [],
   "source": []
  },
  {
   "cell_type": "markdown",
   "id": "0b20168b-ac7b-4202-8641-8a464f879667",
   "metadata": {},
   "source": [
    "## Q4. What is the relationship between Bayes' theorem and conditional probability?"
   ]
  },
  {
   "cell_type": "markdown",
   "id": "9ef142df-27f0-4f46-88e8-8b29381d0785",
   "metadata": {},
   "source": [
    "- > Conditional probability is about to ask question in one direction.\n",
    "\n",
    "- > Baye's theorem is about to ask question in both direction.\n",
    "\n",
    "Conditional Probability Example : If its raining what's the chances of umbrella?\n",
    "\n",
    "Baye's Theorem Example : If its raining what's the chances of umbrells? and If there is someone stands with umbrella what's the chances of raining?"
   ]
  },
  {
   "cell_type": "code",
   "execution_count": null,
   "id": "7889b34e-c8a0-49e4-b7bf-2e1d4c029ead",
   "metadata": {},
   "outputs": [],
   "source": []
  },
  {
   "cell_type": "markdown",
   "id": "4802e387-6807-4761-84a2-d3bf573f18db",
   "metadata": {},
   "source": [
    "## Q5. How do you choose which type of Naive Bayes classifier to use for any given problem?"
   ]
  },
  {
   "cell_type": "markdown",
   "id": "f6d13447-e544-4746-979a-780dc22fd33e",
   "metadata": {},
   "source": [
    "- > Choosing appropriate naive baye's model depends uppon type of input feature.\n",
    "\n",
    "Bernouli Naive Baye's - If features contain binary variables.\n",
    "\n",
    "Multinomial Naive Baye's - If features are in sentence.\n",
    "\n",
    "Gaussian Naive Baye's - If features contain continuous values."
   ]
  },
  {
   "cell_type": "code",
   "execution_count": null,
   "id": "9e846ad5-234a-4dfb-a09a-e3c9b5a88913",
   "metadata": {},
   "outputs": [],
   "source": []
  },
  {
   "cell_type": "markdown",
   "id": "5bb250e1-8684-4222-a8c2-81e4acc56a96",
   "metadata": {},
   "source": [
    "## Q6. Assignment:\n",
    "You have a dataset with two features, X1 and X2, and two possible classes, A and B. You want to use Naive\n",
    "Bayes to classify a new instance with features X1 = 3 and X2 = 4. The following table shows the frequency of\n",
    "each feature value for each class:\n",
    "Class X1=1 X1=2 X1=3 X2=1 X2=2 X2=3 X2=4\n",
    "A     3    3    4    4    3    3    3\n",
    "B     2    2    1    2    2    2    3\n",
    "Assuming equal prior probabilities for each class, which class would Naive Bayes predict the new instance\n",
    "to belong to?"
   ]
  },
  {
   "cell_type": "markdown",
   "id": "f6287cca-8836-4c92-9d1c-71dcd5808ad0",
   "metadata": {},
   "source": [
    "* Formula : P(Class/X1,X2) = P(Class) * P(X1 / Class) * P(X2 / Class)\n",
    "\n",
    "* For Class A:\n",
    "\n",
    "P(X1=3 ∣ A) = 0.4\n",
    "\n",
    "P(X2 = 4 ∣ A) = 0.5\n",
    "\n",
    "P(C = A) = 0.5\n",
    "\n",
    "* For Class B :\n",
    "\n",
    "P(X1= 3 ∣ B) = 0\n",
    "\n",
    "P(X2 = 4 ∣ B) = 0\n",
    "\n",
    "P(C = B) = 0.5\n",
    "\n",
    " - > Now, we can calculate the proportional probabilities:\n",
    "\n",
    "* For Class A:\n",
    "\n",
    "P(C = A ∣ X1=3,X2=4) = 0.4 * 0.5 * 0.5 = 0.1\n",
    "\n",
    "* For Class B:\n",
    "\n",
    "P(C = B ∣ X1=3,X2=4) = 0 * 0 * 0.5\n",
    "\n",
    "- > We can compare these proportional probabilities and see which is larger to determine the predicted class. \n",
    "\n",
    "P(C=A ∣ X1=3,X2=4) = 0.1\n",
    "\n",
    "P(C=B ∣ X1=3,X2=4) = 0"
   ]
  },
  {
   "cell_type": "code",
   "execution_count": null,
   "id": "71528e1a-8225-453c-883f-fa6a1d5d4721",
   "metadata": {},
   "outputs": [],
   "source": []
  }
 ],
 "metadata": {
  "kernelspec": {
   "display_name": "Python 3 (ipykernel)",
   "language": "python",
   "name": "python3"
  },
  "language_info": {
   "codemirror_mode": {
    "name": "ipython",
    "version": 3
   },
   "file_extension": ".py",
   "mimetype": "text/x-python",
   "name": "python",
   "nbconvert_exporter": "python",
   "pygments_lexer": "ipython3",
   "version": "3.10.8"
  }
 },
 "nbformat": 4,
 "nbformat_minor": 5
}
